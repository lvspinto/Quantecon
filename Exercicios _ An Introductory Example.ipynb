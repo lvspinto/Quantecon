{
 "cells": [
  {
   "cell_type": "markdown",
   "metadata": {},
   "source": [
    "# Exercícios da página:\n",
    "https://lectures.quantecon.org/py/python_by_example.html"
   ]
  },
  {
   "cell_type": "markdown",
   "metadata": {},
   "source": [
    "# Exercise 1:  \n",
    "Write a function factorial such that factorial(n) returns n! for any positive integer n"
   ]
  },
  {
   "cell_type": "code",
   "execution_count": 78,
   "metadata": {
    "ExecuteTime": {
     "end_time": "2019-04-09T16:14:38.678354Z",
     "start_time": "2019-04-09T16:14:38.673367Z"
    }
   },
   "outputs": [],
   "source": [
    "import numpy as np\n",
    "import matplotlib.pyplot as plt\n",
    "import math"
   ]
  },
  {
   "cell_type": "code",
   "execution_count": 88,
   "metadata": {
    "ExecuteTime": {
     "end_time": "2019-04-09T16:21:52.342778Z",
     "start_time": "2019-04-09T16:21:52.335795Z"
    }
   },
   "outputs": [
    {
     "data": {
      "text/plain": [
       "True"
      ]
     },
     "execution_count": 88,
     "metadata": {},
     "output_type": "execute_result"
    }
   ],
   "source": [
    "# primeiro da manrira mais tradicional:\n",
    "\n",
    "def factorial(n):     \n",
    "    if n ==0:\n",
    "        return 1\n",
    "    else:\n",
    "        x = 1 \n",
    "        for i in range(1,n+1):\n",
    "            x = x*i\n",
    "        return x\n",
    "\n",
    "teste = 20\n",
    "factorial(teste) == math.factorial(teste)"
   ]
  },
  {
   "cell_type": "code",
   "execution_count": 104,
   "metadata": {
    "ExecuteTime": {
     "end_time": "2019-04-09T16:38:28.073843Z",
     "start_time": "2019-04-09T16:38:28.067901Z"
    }
   },
   "outputs": [
    {
     "data": {
      "text/plain": [
       "True"
      ]
     },
     "execution_count": 104,
     "metadata": {},
     "output_type": "execute_result"
    }
   ],
   "source": [
    "# agora de forma recursiva:\n",
    "\n",
    "def factorial(n):     \n",
    "    if n ==0:\n",
    "        return 1\n",
    "    else:\n",
    "        return n * factorial(n-1)\n",
    "\n",
    "teste = 20\n",
    "factorial(teste) == math.factorial(teste)"
   ]
  },
  {
   "cell_type": "markdown",
   "metadata": {},
   "source": [
    "# Exercise 2:  \n",
    " The binomial random variable Y∼Bin(n,p) represents the number of successes in n binary trials, where each trial succeeds with probability p  \n",
    "  \n",
    "Without any import besides from numpy.random import uniform, write a function binomial_rv such that binomial_rv(n, p) generates one draw of Y  \n",
    "  \n",
    "Hint: If U is uniform on (0,1) and p∈(0,1), then the expression U < p evaluates to True with probability p"
   ]
  },
  {
   "cell_type": "code",
   "execution_count": 105,
   "metadata": {
    "ExecuteTime": {
     "end_time": "2019-04-09T16:53:20.786920Z",
     "start_time": "2019-04-09T16:53:20.782932Z"
    }
   },
   "outputs": [],
   "source": [
    "from numpy.random import uniform"
   ]
  },
  {
   "cell_type": "code",
   "execution_count": 298,
   "metadata": {
    "ExecuteTime": {
     "end_time": "2019-04-09T20:48:36.810489Z",
     "start_time": "2019-04-09T20:48:36.801515Z"
    }
   },
   "outputs": [
    {
     "data": {
      "text/plain": [
       "6"
      ]
     },
     "execution_count": 298,
     "metadata": {},
     "output_type": "execute_result"
    }
   ],
   "source": [
    "# primeiro da manrira mais tradicional:\n",
    "\n",
    "def binomial_rv(n, p):\n",
    "    count = 0\n",
    "    for i in range(n):\n",
    "        U = uniform()\n",
    "        if U < p:\n",
    "            count += 1\n",
    "    return count\n",
    "\n",
    "binomial_rv(10, 0.5)"
   ]
  },
  {
   "cell_type": "code",
   "execution_count": 249,
   "metadata": {
    "ExecuteTime": {
     "end_time": "2019-04-09T20:01:40.950907Z",
     "start_time": "2019-04-09T20:01:40.943936Z"
    }
   },
   "outputs": [
    {
     "data": {
      "text/plain": [
       "7"
      ]
     },
     "execution_count": 249,
     "metadata": {},
     "output_type": "execute_result"
    }
   ],
   "source": [
    "# agora usando list comprehension:\n",
    "\n",
    "def binomial_rv(n, p):\n",
    "    x = [uniform() < p for i in range(n)]\n",
    "    return sum(x)\n",
    "\n",
    "binomial_rv(10, 0.3)"
   ]
  },
  {
   "cell_type": "markdown",
   "metadata": {},
   "source": [
    "# Extra: criar um gráfico com a distribuição tendendo a uma N(np,np(1-p))"
   ]
  },
  {
   "cell_type": "code",
   "execution_count": 180,
   "metadata": {
    "ExecuteTime": {
     "end_time": "2019-04-09T18:55:29.260728Z",
     "start_time": "2019-04-09T18:55:29.251751Z"
    }
   },
   "outputs": [],
   "source": [
    "import matplotlib.pyplot as plt\n",
    "\n",
    "def binomial_plot(n, p,rep):\n",
    "    '''retorna duas listas com o número de sucessos em rep repetições de um experimento de bernoulli(n,p) e sua \n",
    "    probabilidade, respectivamente'''\n",
    "    \n",
    "    # guarda em um dicionário a frequência do número sucessos para cada repetição\n",
    "    d = {}\n",
    "    for i in range(rep):\n",
    "        n_sucessos = binomial_rv(n, p)\n",
    "        if n_sucessos not in d:\n",
    "            d[n_sucessos] = 1\n",
    "        else:\n",
    "            d[n_sucessos] += 1\n",
    "    lista = sorted(d.items())    # items() transforma em tuplas e sorted() transforma coloca em uma lista ordenada\n",
    "    \n",
    "    # calcula a probabilidade com base na freqência e separa as tuplas em duas listas\n",
    "    x=[]\n",
    "    y=[]\n",
    "    for j in range(len(d)):\n",
    "        x.append(lista[j][0])\n",
    "        y.append(lista[j][1]/rep)\n",
    "    \n",
    "    return x,y"
   ]
  },
  {
   "cell_type": "code",
   "execution_count": 217,
   "metadata": {
    "ExecuteTime": {
     "end_time": "2019-04-09T19:55:37.626893Z",
     "start_time": "2019-04-09T19:55:36.433053Z"
    }
   },
   "outputs": [
    {
     "data": {
      "image/png": "[encoded data removed]",
      "text/plain": [
       "<Figure size 432x288 with 1 Axes>"
      ]
     },
     "metadata": {
      "needs_background": "light"
     },
     "output_type": "display_data"
    }
   ],
   "source": [
    "import matplotlib.mlab as mlab\n",
    "\n",
    "x1,y1 = binomial_plot(5, 0.5,10000)\n",
    "x2,y2 = binomial_plot(10, 0.5,10000)\n",
    "x3,y3 = binomial_plot(15, 0.5,10000)\n",
    "x4,y4 = binomial_plot(30, 0.5,10000)\n",
    "x5,y5 = binomial_plot(50, 0.5,10000)\n",
    "x6,y6 = binomial_plot(60, 0.5,10000)\n",
    "\n",
    "plt.scatter(x1,y1)\n",
    "# plt.scatter(x2,y2)\n",
    "plt.scatter(x3,y3)\n",
    "plt.scatter(x4,y4)\n",
    "# plt.scatter(x5,y5)\n",
    "# plt.scatter(x6,y6)\n",
    "plt.show()"
   ]
  },
  {
   "cell_type": "code",
   "execution_count": 271,
   "metadata": {
    "ExecuteTime": {
     "end_time": "2019-04-09T20:29:42.641944Z",
     "start_time": "2019-04-09T20:29:41.400248Z"
    }
   },
   "outputs": [
    {
     "data": {
      "image/png": "[encoded data removed]",
      "text/plain": [
       "<Figure size 432x288 with 1 Axes>"
      ]
     },
     "metadata": {
      "needs_background": "light"
     },
     "output_type": "display_data"
    }
   ],
   "source": [
    "x1,y1 = binomial_plot(5, 0.5,10000)\n",
    "# x2,y2 = binomial_plot(10, 0.5,10000)\n",
    "x3,y3 = binomial_plot(15, 0.5,10000)\n",
    "x4,y4 = binomial_plot(30, 0.5,10000)\n",
    "# x5,y5 = binomial_plot(50, 0.5,10000)\n",
    "# x6,y6 = binomial_plot(60, 0.5,10000)\n",
    "\n",
    "plt.bar(x1,y1)\n",
    "# plt.scatter(x2,y2)\n",
    "plt.bar(x3,y3)\n",
    "plt.bar(x4,y4)\n",
    "# plt.scatter(x5,y5)\n",
    "# plt.scatter(x6,y6)\n",
    "plt.show()"
   ]
  },
  {
   "cell_type": "code",
   "execution_count": 283,
   "metadata": {
    "ExecuteTime": {
     "end_time": "2019-04-09T20:36:44.166779Z",
     "start_time": "2019-04-09T20:36:43.488595Z"
    }
   },
   "outputs": [
    {
     "data": {
      "image/png": "[encoded data removed]",
      "text/plain": [
       "<Figure size 432x288 with 1 Axes>"
      ]
     },
     "metadata": {
      "needs_background": "light"
     },
     "output_type": "display_data"
    }
   ],
   "source": [
    "# também posso ser mais eficiente e usar o pacote plt.hist(): \n",
    "\n",
    "n_1 = 5\n",
    "n_2 = 10\n",
    "n_3 = 50\n",
    "p,repeticoes = 0.5,10000\n",
    "\n",
    "lista_1 = [binomial_rv(n_1, p) for rep in range(repeticoes)]\n",
    "lista_2 = [binomial_rv(n_2, p) for rep in range(repeticoes)]\n",
    "lista_3 = [binomial_rv(n_3, p) for rep in range(repeticoes)]\n",
    "plt.hist(lista_1,50)\n",
    "plt.hist(lista_2,50)\n",
    "plt.hist(lista_3,50)\n",
    "plt.show()"
   ]
  },
  {
   "cell_type": "markdown",
   "metadata": {},
   "source": [
    "# Exercise 3:  \n",
    "\n",
    "Compute an approximation to π using Monte Carlo. Use no imports besides  \n",
    "\n",
    "import numpy as np  \n",
    "  \n",
    "Your hints are as follows:\n",
    "  \n",
    "If U is a bivariate uniform random variable on the unit square (0,1)2, then the probability that U lies in a subset B of (0,1)2 is equal to the area of B  \n",
    "\n",
    "If U1,…,Un are iid copies of U, then, as n gets large, the fraction that fall in B converges to the probability of landing in B\n",
    "  \n",
    "For a circle, area = pi * radius^2"
   ]
  },
  {
   "cell_type": "code",
   "execution_count": 312,
   "metadata": {
    "ExecuteTime": {
     "end_time": "2019-04-09T21:26:46.302131Z",
     "start_time": "2019-04-09T21:26:46.267266Z"
    }
   },
   "outputs": [
    {
     "name": "stdout",
     "output_type": "stream",
     "text": [
      "3.1436\n"
     ]
    }
   ],
   "source": [
    "import numpy as np\n",
    "\n",
    "# sabemos que π = A/(r**2)\n",
    "# pelo enunciado, sabemos que A pode ser aproximado usando um circulo inscrito de raio r = 1/2\n",
    "# os pontos que estão dentro do circulo sao os pares (x,y) tal que (x - a)2 + (y - b)2 < r2\n",
    "\n",
    "n = 10000\n",
    "r = 1/2\n",
    "\n",
    "s = [(np.random.uniform() - 0.5)**2 + (np.random.uniform() - 0.5)**2 < r**2 for i in range(n)]\n",
    "A = sum(s)/n\n",
    "\n",
    "print(A/(r**2))"
   ]
  },
  {
   "cell_type": "markdown",
   "metadata": {},
   "source": [
    "# Exercise 4:  \n",
    "\n",
    "Write a program that prints one realization of the following random device:  \n",
    "-  Flip an unbiased coin 10 times  \n",
    "-  If 3 consecutive heads occur one or more times within this sequence, pay one dollar  \n",
    "-  If not, pay nothing  \n",
    "\n",
    "Use no import besides from numpy.random import uniform"
   ]
  },
  {
   "cell_type": "code",
   "execution_count": 387,
   "metadata": {
    "ExecuteTime": {
     "end_time": "2019-04-09T22:06:48.002919Z",
     "start_time": "2019-04-09T22:06:47.996934Z"
    }
   },
   "outputs": [
    {
     "name": "stdout",
     "output_type": "stream",
     "text": [
      "pay one dollar\n"
     ]
    }
   ],
   "source": [
    "from numpy.random import uniform\n",
    "\n",
    "payoff = \"pay nothing\"\n",
    "count = 0\n",
    "\n",
    "for i in range(10):\n",
    "    U = uniform()\n",
    "    count = count + 1 if U < 0.5 else 0        \n",
    "    if count == 3:\n",
    "        payoff = \"pay one dollar\"\n",
    "    \n",
    "print(payoff)"
   ]
  },
  {
   "cell_type": "markdown",
   "metadata": {},
   "source": [
    "# Exercise 5:  \n",
    "\n",
    "Your next task is to simulate and plot the correlated time series  \n",
    "\n",
    "$ x_{t+1} = \\alpha x_t + ε_{t+1}$ where $x_0 = 0$ and $t = 0,…,T$\n",
    "\n",
    "The sequence of shocks $\\{ε_t\\}$ is assumed to be iid and standard normal  \n",
    "\n",
    "In your solution, restrict your import statements to:\n",
    "\n",
    "import numpy as np  \n",
    "import matplotlib.pyplot as plt  \n",
    "\n",
    "Set $T = 200$ and $\\alpha = 0.9$"
   ]
  },
  {
   "cell_type": "code",
   "execution_count": 2,
   "metadata": {
    "ExecuteTime": {
     "end_time": "2019-04-09T22:48:12.533958Z",
     "start_time": "2019-04-09T22:48:12.381334Z"
    }
   },
   "outputs": [
    {
     "data": {
      "image/png": "[encoded data removed]",
      "text/plain": [
       "<Figure size 432x288 with 1 Axes>"
      ]
     },
     "metadata": {
      "needs_background": "light"
     },
     "output_type": "display_data"
    }
   ],
   "source": [
    "import numpy as np\n",
    "import matplotlib.pyplot as plt\n",
    "\n",
    "T = 200\n",
    "α = 0.9\n",
    "\n",
    "seq = [0]\n",
    "for t in range(T):\n",
    "    ϵ = np.random.randn()\n",
    "    x = α * seq[-1] + ϵ\n",
    "    seq.append(x)\n",
    "\n",
    "plt.plot(seq)\n",
    "plt.show()"
   ]
  },
  {
   "cell_type": "markdown",
   "metadata": {},
   "source": [
    "# Exercise 6:  \n",
    "\n",
    "Now, starting with your solution to exercise 5, plot three simulated time series, one for each of the cases α=0, α=0.8 and α=0.98  \n",
    "  \n",
    "Use a for loop to step through the α values  \n",
    "  \n",
    "Important hints:\n",
    "\n",
    "-  If you call the plot() function multiple times before calling show(), all of the lines you produce will end up on the same figure\n",
    "\n",
    "    -  And if you omit the argument 'b-' to the plot function, Matplotlib will automatically select different colors for each line\n",
    "  \n",
    "-  The expression 'foo' + str(42) evaluates to 'foo42'"
   ]
  },
  {
   "cell_type": "code",
   "execution_count": 17,
   "metadata": {
    "ExecuteTime": {
     "end_time": "2019-04-09T22:58:35.594964Z",
     "start_time": "2019-04-09T22:58:35.465290Z"
    }
   },
   "outputs": [
    {
     "data": {
      "image/png": "[encoded data removed]",
      "text/plain": [
       "<Figure size 432x288 with 1 Axes>"
      ]
     },
     "metadata": {
      "needs_background": "light"
     },
     "output_type": "display_data"
    }
   ],
   "source": [
    "import numpy as np\n",
    "import matplotlib.pyplot as plt\n",
    "\n",
    "T = 200\n",
    "αs = [0,0.8,0.98]\n",
    "\n",
    "for α in αs:\n",
    "    seq = [0]\n",
    "    for t in range(T):\n",
    "        ϵ = np.random.randn()\n",
    "        x = α * seq[-1] + ϵ\n",
    "        seq.append(x)\n",
    "    var = np.var(seq)\n",
    "    label = f'α = {α}'\n",
    "    plt.plot(seq, label=label)\n",
    "\n",
    "plt.legend()\n",
    "plt.show()"
   ]
  }
 ],
 "metadata": {
  "kernelspec": {
   "display_name": "Python 3",
   "language": "python",
   "name": "python3"
  },
  "language_info": {
   "codemirror_mode": {
    "name": "ipython",
    "version": 3
   },
   "file_extension": ".py",
   "mimetype": "text/x-python",
   "name": "python",
   "nbconvert_exporter": "python",
   "pygments_lexer": "ipython3",
   "version": "3.7.3"
  },
  "toc": {
   "base_numbering": 1,
   "nav_menu": {},
   "number_sections": true,
   "sideBar": true,
   "skip_h1_title": true,
   "title_cell": "Table of Contents",
   "title_sidebar": "Contents",
   "toc_cell": false,
   "toc_position": {},
   "toc_section_display": true,
   "toc_window_display": false
  },
  "varInspector": {
   "cols": {
    "lenName": 16,
    "lenType": 16,
    "lenVar": 40
   },
   "kernels_config": {
    "python": {
     "delete_cmd_postfix": "",
     "delete_cmd_prefix": "del ",
     "library": "var_list.py",
     "varRefreshCmd": "print(var_dic_list())"
    },
    "r": {
     "delete_cmd_postfix": ") ",
     "delete_cmd_prefix": "rm(",
     "library": "var_list.r",
     "varRefreshCmd": "cat(var_dic_list()) "
    }
   },
   "position": {
    "height": "256px",
    "left": "1550px",
    "right": "20px",
    "top": "120px",
    "width": "350px"
   },
   "types_to_exclude": [
    "module",
    "function",
    "builtin_function_or_method",
    "instance",
    "_Feature"
   ],
   "window_display": true
  }
 },
 "nbformat": 4,
 "nbformat_minor": 2
}
