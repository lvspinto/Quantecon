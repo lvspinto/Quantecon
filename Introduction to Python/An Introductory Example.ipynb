{
 "cells": [
  {
   "cell_type": "markdown",
   "metadata": {},
   "source": [
    "# Exercise 1\n",
    "\n",
    "---\n",
    "\n",
    "Write a function factorial such that factorial(n) returns n! for any positive integer n"
   ]
  },
  {
   "cell_type": "code",
   "execution_count": 1,
   "metadata": {
    "ExecuteTime": {
     "end_time": "2019-10-23T19:02:15.606900Z",
     "start_time": "2019-10-23T19:02:15.045602Z"
    }
   },
   "outputs": [],
   "source": [
    "import numpy as np\n",
    "import matplotlib.pyplot as plt\n",
    "import math"
   ]
  },
  {
   "cell_type": "code",
   "execution_count": 2,
   "metadata": {
    "ExecuteTime": {
     "end_time": "2019-10-23T19:02:15.631328Z",
     "start_time": "2019-10-23T19:02:15.610780Z"
    }
   },
   "outputs": [
    {
     "data": {
      "text/plain": [
       "True"
      ]
     },
     "execution_count": 2,
     "metadata": {},
     "output_type": "execute_result"
    }
   ],
   "source": [
    "# primeiro da maneira mais tradicional:\n",
    "\n",
    "def factorial(n):     \n",
    "    if n == 0:\n",
    "        return 1\n",
    "    else:\n",
    "        x = 1 \n",
    "        for i in range(1,n+1):\n",
    "            x = x*i\n",
    "        return x\n",
    "\n",
    "teste = 20\n",
    "factorial(teste) == math.factorial(teste)"
   ]
  },
  {
   "cell_type": "code",
   "execution_count": 3,
   "metadata": {
    "ExecuteTime": {
     "end_time": "2019-10-23T19:02:15.653084Z",
     "start_time": "2019-10-23T19:02:15.635982Z"
    }
   },
   "outputs": [
    {
     "data": {
      "text/plain": [
       "True"
      ]
     },
     "execution_count": 3,
     "metadata": {},
     "output_type": "execute_result"
    }
   ],
   "source": [
    "# agora de forma recursiva:\n",
    "\n",
    "def factorial(n):     \n",
    "    if n == 0:\n",
    "        return 1\n",
    "    else:\n",
    "        return n * factorial(n-1)\n",
    "\n",
    "teste = 20\n",
    "factorial(teste) == math.factorial(teste)"
   ]
  },
  {
   "cell_type": "markdown",
   "metadata": {},
   "source": [
    "# Exercise 2\n",
    "\n",
    "---\n",
    "\n",
    "The binomial random variable Y∼Bin(n,p) represents the number of successes in n binary trials, where each trial succeeds with probability p.  \n",
    "  \n",
    "Without any import besides from numpy.random import uniform, write a function binomial_rv such that binomial_rv(n, p) generates one draw of Y."
   ]
  },
  {
   "cell_type": "code",
   "execution_count": 4,
   "metadata": {
    "ExecuteTime": {
     "end_time": "2019-10-23T19:02:15.669002Z",
     "start_time": "2019-10-23T19:02:15.660509Z"
    }
   },
   "outputs": [],
   "source": [
    "from numpy.random import uniform"
   ]
  },
  {
   "cell_type": "code",
   "execution_count": 5,
   "metadata": {
    "ExecuteTime": {
     "end_time": "2019-10-23T19:02:15.696729Z",
     "start_time": "2019-10-23T19:02:15.676105Z"
    }
   },
   "outputs": [
    {
     "data": {
      "text/plain": [
       "3"
      ]
     },
     "execution_count": 5,
     "metadata": {},
     "output_type": "execute_result"
    }
   ],
   "source": [
    "# primeiro da maneira mais tradicional:\n",
    "\n",
    "def binomial_rv(n, p):\n",
    "    count = 0\n",
    "    for i in range(n):\n",
    "        U = uniform()\n",
    "        if U < p:\n",
    "            count += 1\n",
    "    return count\n",
    "\n",
    "binomial_rv(10, 0.5)"
   ]
  },
  {
   "cell_type": "code",
   "execution_count": 6,
   "metadata": {
    "ExecuteTime": {
     "end_time": "2019-10-23T19:02:15.726281Z",
     "start_time": "2019-10-23T19:02:15.705646Z"
    }
   },
   "outputs": [
    {
     "data": {
      "text/plain": [
       "6"
      ]
     },
     "execution_count": 6,
     "metadata": {},
     "output_type": "execute_result"
    }
   ],
   "source": [
    "# agora usando list comprehension:\n",
    "\n",
    "def binomial_rv(n, p):\n",
    "    x = [uniform() < p for i in range(n)]\n",
    "    return sum(x)\n",
    "\n",
    "binomial_rv(10, 0.3)"
   ]
  },
  {
   "cell_type": "markdown",
   "metadata": {},
   "source": [
    "# Desafio Próprio\n",
    "\n",
    "---\n",
    "\n",
    "Criar um gráfico com a distribuição tendendo a uma N(np,np(1-p))."
   ]
  },
  {
   "cell_type": "code",
   "execution_count": 7,
   "metadata": {
    "ExecuteTime": {
     "end_time": "2019-10-23T19:02:15.760219Z",
     "start_time": "2019-10-23T19:02:15.738471Z"
    }
   },
   "outputs": [],
   "source": [
    "import matplotlib.pyplot as plt\n",
    "\n",
    "def binomial_plot(n, p,rep):\n",
    "    '''retorna duas listas. A primeira contém o número de sucessos em rep repetições de um experimento de bernoulli(n,p),\n",
    "    enquanto a segunda contém a probabilidade empírica'''\n",
    "    \n",
    "    # guarda em um dicionário a frequência do número de sucessos para cada repetição\n",
    "    d = {}\n",
    "    for i in range(rep):\n",
    "        n_sucessos = binomial_rv(n, p)\n",
    "        if n_sucessos not in d:\n",
    "            d[n_sucessos] = 1\n",
    "        else:\n",
    "            d[n_sucessos] += 1\n",
    "    lista = sorted(d.items())    # items() transforma o dicionário em tuplas e sorted() coloca em uma lista de ordenada\n",
    "    \n",
    "    # calcula a probabilidade empírica e separa as tuplas em duas listas\n",
    "    x=[]\n",
    "    y=[]\n",
    "    for j in range(len(d)):\n",
    "        x.append(lista[j][0])\n",
    "        y.append(lista[j][1]/rep)\n",
    "    \n",
    "    return x,y"
   ]
  },
  {
   "cell_type": "code",
   "execution_count": 8,
   "metadata": {
    "ExecuteTime": {
     "end_time": "2019-10-23T19:02:18.843719Z",
     "start_time": "2019-10-23T19:02:15.765316Z"
    }
   },
   "outputs": [
    {
     "data": {
      "image/png": "[encoded data removed]",
      "text/plain": [
       "<Figure size 432x288 with 1 Axes>"
      ]
     },
     "metadata": {
      "needs_background": "light"
     },
     "output_type": "display_data"
    }
   ],
   "source": [
    "import matplotlib.pyplot as plt\n",
    "\n",
    "x1,y1 = binomial_plot(5, 0.5,10000)\n",
    "x2,y2 = binomial_plot(10, 0.5,10000)\n",
    "x3,y3 = binomial_plot(15, 0.5,10000)\n",
    "x4,y4 = binomial_plot(30, 0.5,10000)\n",
    "x5,y5 = binomial_plot(50, 0.5,10000)\n",
    "x6,y6 = binomial_plot(60, 0.5,10000)\n",
    "\n",
    "plt.scatter(x1,y1)\n",
    "# plt.scatter(x2,y2)\n",
    "plt.scatter(x3,y3)\n",
    "plt.scatter(x4,y4)\n",
    "# plt.scatter(x5,y5)\n",
    "# plt.scatter(x6,y6)\n",
    "plt.show()"
   ]
  },
  {
   "cell_type": "code",
   "execution_count": 9,
   "metadata": {
    "ExecuteTime": {
     "end_time": "2019-10-23T19:02:20.100226Z",
     "start_time": "2019-10-23T19:02:18.845715Z"
    }
   },
   "outputs": [
    {
     "data": {
      "image/png": "[encoded data removed]",
      "text/plain": [
       "<Figure size 432x288 with 1 Axes>"
      ]
     },
     "metadata": {
      "needs_background": "light"
     },
     "output_type": "display_data"
    }
   ],
   "source": [
    "x1,y1 = binomial_plot(5, 0.5,10000)\n",
    "# x2,y2 = binomial_plot(10, 0.5,10000)\n",
    "x3,y3 = binomial_plot(15, 0.5,10000)\n",
    "x4,y4 = binomial_plot(30, 0.5,10000)\n",
    "# x5,y5 = binomial_plot(50, 0.5,10000)\n",
    "# x6,y6 = binomial_plot(60, 0.5,10000)\n",
    "\n",
    "plt.bar(x1,y1)\n",
    "# plt.bar(x2,y2)\n",
    "plt.bar(x3,y3)\n",
    "plt.bar(x4,y4)\n",
    "# plt.bar(x5,y5)\n",
    "# plt.bar(x6,y6)\n",
    "plt.show()"
   ]
  },
  {
   "cell_type": "code",
   "execution_count": 10,
   "metadata": {
    "ExecuteTime": {
     "end_time": "2019-10-23T19:02:21.676922Z",
     "start_time": "2019-10-23T19:02:20.103219Z"
    }
   },
   "outputs": [
    {
     "data": {
      "image/png": "[encoded data removed]",
      "text/plain": [
       "<Figure size 432x288 with 1 Axes>"
      ]
     },
     "metadata": {
      "needs_background": "light"
     },
     "output_type": "display_data"
    }
   ],
   "source": [
    "# também posso fazer diretamente o histograma usando o pacote plt.hist(): \n",
    "\n",
    "n_1 = 5\n",
    "n_2 = 15\n",
    "n_3 = 30\n",
    "p,repeticoes = 0.5,10000\n",
    "\n",
    "lista_1 = [binomial_rv(n_1, p) for rep in range(repeticoes)]\n",
    "lista_2 = [binomial_rv(n_2, p) for rep in range(repeticoes)]\n",
    "lista_3 = [binomial_rv(n_3, p) for rep in range(repeticoes)]\n",
    "plt.hist(lista_1,50)\n",
    "plt.hist(lista_2,50)\n",
    "plt.hist(lista_3,50)\n",
    "plt.show()"
   ]
  },
  {
   "cell_type": "markdown",
   "metadata": {},
   "source": [
    "# Exercise 3\n",
    "\n",
    "---\n",
    "\n",
    "Compute an approximation to $\\pi$ using Monte Carlo. Use no imports besides numpy.  \n",
    "  \n",
    "Your hints are as follows:\n",
    "  \n",
    "1. If U is a bivariate uniform random variable on the unit square $(0,1)^2$, then the probability that U lies in a subset B of $(0,1)^2$ is equal to the area of B  \n",
    "\n",
    "2. If U1,…,Un are iid copies of U, then, as n gets large, the fraction that fall in B converges to the probability of landing in B\n",
    "  \n",
    "3. For a circle, $area = pi * radius^2$"
   ]
  },
  {
   "cell_type": "code",
   "execution_count": 11,
   "metadata": {
    "ExecuteTime": {
     "end_time": "2019-10-23T19:02:26.138977Z",
     "start_time": "2019-10-23T19:02:21.680506Z"
    }
   },
   "outputs": [
    {
     "name": "stdout",
     "output_type": "stream",
     "text": [
      "3.140488\n"
     ]
    }
   ],
   "source": [
    "import numpy as np\n",
    "\n",
    "# de (3), sabemos que pi = A/(r**2)\n",
    "# de (1) e (2), sabemos que A pode ser aproximado usando um circulo inscrito de raio r = 1/2\n",
    "# os pontos que estão dentro do circulo são os pares (x,y) tal que (x - a)2 + (y - b)2 < r2\n",
    "\n",
    "n = 1000000\n",
    "r = 1/2\n",
    "\n",
    "s = [(np.random.uniform() - 0.5)**2 + (np.random.uniform() - 0.5)**2 < r**2 for i in range(n)]\n",
    "A = sum(s)/n\n",
    "\n",
    "print(A/(r**2))"
   ]
  },
  {
   "cell_type": "markdown",
   "metadata": {},
   "source": [
    "# Exercise 4\n",
    "\n",
    "---\n",
    "\n",
    "Write a program that prints one realization of the following random device:  \n",
    "-  Flip an unbiased coin 10 times  \n",
    "-  If 3 consecutive heads occur one or more times within this sequence, pay one dollar  \n",
    "-  If not, pay nothing  \n",
    "\n",
    "Use no import besides from numpy.random import uniform"
   ]
  },
  {
   "cell_type": "code",
   "execution_count": 12,
   "metadata": {
    "ExecuteTime": {
     "end_time": "2019-10-23T19:02:26.151589Z",
     "start_time": "2019-10-23T19:02:26.142001Z"
    }
   },
   "outputs": [
    {
     "name": "stdout",
     "output_type": "stream",
     "text": [
      "pay nothing\n"
     ]
    }
   ],
   "source": [
    "from numpy.random import uniform\n",
    "\n",
    "payoff = \"pay nothing\"\n",
    "count = 0\n",
    "\n",
    "for i in range(10):\n",
    "    U = uniform()\n",
    "    count = count + 1 if U < 0.5 else 0        \n",
    "    if count == 3:\n",
    "        payoff = \"pay one dollar\"\n",
    "    \n",
    "print(payoff)"
   ]
  },
  {
   "cell_type": "markdown",
   "metadata": {},
   "source": [
    "# Exercise 5\n",
    "\n",
    "---\n",
    "\n",
    "Your next task is to simulate and plot the correlated time series  \n",
    "\n",
    "$ x_{t+1} = \\alpha x_t + ε_{t+1}$ where $x_0 = 0$ and $t = 0,…,T$\n",
    "\n",
    "The sequence of shocks $\\{ε_t\\}$ is assumed to be iid and standard normal  \n",
    "\n",
    "In your solution, restrict your import statements to:\n",
    "\n",
    "import numpy as np  \n",
    "import matplotlib.pyplot as plt  \n",
    "\n",
    "Set $T = 200$ and $\\alpha = 0.9$"
   ]
  },
  {
   "cell_type": "code",
   "execution_count": 13,
   "metadata": {
    "ExecuteTime": {
     "end_time": "2019-10-23T19:02:26.422067Z",
     "start_time": "2019-10-23T19:02:26.154598Z"
    }
   },
   "outputs": [
    {
     "data": {
      "image/png": "[encoded data removed]",
      "text/plain": [
       "<Figure size 432x288 with 1 Axes>"
      ]
     },
     "metadata": {
      "needs_background": "light"
     },
     "output_type": "display_data"
    }
   ],
   "source": [
    "import numpy as np\n",
    "import matplotlib.pyplot as plt\n",
    "\n",
    "T = 200\n",
    "α = 0.9\n",
    "\n",
    "seq = [0]\n",
    "for t in range(T):\n",
    "    ϵ = np.random.randn()\n",
    "    x = α * seq[-1] + ϵ\n",
    "    seq.append(x)\n",
    "\n",
    "plt.plot(seq)\n",
    "plt.show()"
   ]
  },
  {
   "cell_type": "markdown",
   "metadata": {},
   "source": [
    "# Exercise 6:\n",
    "\n",
    "---\n",
    "\n",
    "Now, starting with your solution to exercise 5, plot three simulated time series, one for each of the cases α=0, α=0.8 and α=0.98  \n",
    "  \n",
    "Use a for loop to step through the α values."
   ]
  },
  {
   "cell_type": "code",
   "execution_count": 14,
   "metadata": {
    "ExecuteTime": {
     "end_time": "2019-10-23T19:02:26.756485Z",
     "start_time": "2019-10-23T19:02:26.424308Z"
    }
   },
   "outputs": [
    {
     "data": {
      "image/png": "[encoded data removed]",
      "text/plain": [
       "<Figure size 432x288 with 1 Axes>"
      ]
     },
     "metadata": {
      "needs_background": "light"
     },
     "output_type": "display_data"
    }
   ],
   "source": [
    "import numpy as np\n",
    "import matplotlib.pyplot as plt\n",
    "\n",
    "T = 200\n",
    "αs = [0,0.8,0.98]\n",
    "\n",
    "for α in αs:\n",
    "    seq = [0]\n",
    "    for t in range(T):\n",
    "        ϵ = np.random.randn()\n",
    "        x = α * seq[-1] + ϵ\n",
    "        seq.append(x)\n",
    "    var = np.var(seq)\n",
    "    label = f'α = {α}'\n",
    "    plt.plot(seq, label=label)\n",
    "\n",
    "plt.legend()\n",
    "plt.show()"
   ]
  }
 ],
 "metadata": {
  "kernelspec": {
   "display_name": "Python 3",
   "language": "python",
   "name": "python3"
  },
  "language_info": {
   "codemirror_mode": {
    "name": "ipython",
    "version": 3
   },
   "file_extension": ".py",
   "mimetype": "text/x-python",
   "name": "python",
   "nbconvert_exporter": "python",
   "pygments_lexer": "ipython3",
   "version": "3.7.3"
  },
  "toc": {
   "base_numbering": 1,
   "nav_menu": {},
   "number_sections": true,
   "sideBar": true,
   "skip_h1_title": true,
   "title_cell": "Table of Contents",
   "title_sidebar": "Contents",
   "toc_cell": false,
   "toc_position": {},
   "toc_section_display": true,
   "toc_window_display": false
  },
  "varInspector": {
   "cols": {
    "lenName": 16,
    "lenType": 16,
    "lenVar": 40
   },
   "kernels_config": {
    "python": {
     "delete_cmd_postfix": "",
     "delete_cmd_prefix": "del ",
     "library": "var_list.py",
     "varRefreshCmd": "print(var_dic_list())"
    },
    "r": {
     "delete_cmd_postfix": ") ",
     "delete_cmd_prefix": "rm(",
     "library": "var_list.r",
     "varRefreshCmd": "cat(var_dic_list()) "
    }
   },
   "position": {
    "height": "256px",
    "left": "1550px",
    "right": "20px",
    "top": "120px",
    "width": "350px"
   },
   "types_to_exclude": [
    "module",
    "function",
    "builtin_function_or_method",
    "instance",
    "_Feature"
   ],
   "window_display": true
  }
 },
 "nbformat": 4,
 "nbformat_minor": 2
}
