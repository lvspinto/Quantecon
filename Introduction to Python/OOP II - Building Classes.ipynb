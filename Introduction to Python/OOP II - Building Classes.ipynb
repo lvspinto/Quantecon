{
 "cells": [
  {
   "cell_type": "markdown",
   "metadata": {},
   "source": [
    "**Exercise 1:**"
   ]
  },
  {
   "cell_type": "code",
   "execution_count": 1,
   "metadata": {
    "ExecuteTime": {
     "end_time": "2019-11-14T03:35:51.302295Z",
     "start_time": "2019-11-14T03:35:51.294281Z"
    }
   },
   "outputs": [],
   "source": [
    "class ECDF:\n",
    "    \"\"\"\n",
    "    Creates an instance of an empirical cumulative distribution function class.\n",
    "    \"\"\"         \n",
    "    def __init__(self,observations):\n",
    "        \n",
    "        self.observations = observations\n",
    "        \n",
    "    def __call__(self,x):\n",
    "        count = 0\n",
    "        for obs in self.observations:\n",
    "            if obs <= x:\n",
    "                count += 1\n",
    "        return count/len(self.observations)\n",
    "    \n",
    "# a more efficient (but less clear) version using numpy can be found on ex 3 in \"The Scientific Libraries\""
   ]
  },
  {
   "cell_type": "code",
   "execution_count": 2,
   "metadata": {
    "ExecuteTime": {
     "end_time": "2019-11-14T03:35:51.316224Z",
     "start_time": "2019-11-14T03:35:51.305251Z"
    }
   },
   "outputs": [
    {
     "name": "stdout",
     "output_type": "stream",
     "text": [
      "0.4\n"
     ]
    }
   ],
   "source": [
    "# test\n",
    "\n",
    "from random import uniform\n",
    "\n",
    "samples = [uniform(0, 1) for i in range(10)]\n",
    "F = ECDF(samples)\n",
    "print(F(0.5))  # Evaluate ecdf at x = 0.5"
   ]
  },
  {
   "cell_type": "markdown",
   "metadata": {},
   "source": [
    "**Exercise 2:**"
   ]
  },
  {
   "cell_type": "code",
   "execution_count": 3,
   "metadata": {
    "ExecuteTime": {
     "end_time": "2019-11-14T03:35:51.328192Z",
     "start_time": "2019-11-14T03:35:51.319217Z"
    }
   },
   "outputs": [],
   "source": [
    "class polynomial:\n",
    "    \"\"\"\n",
    "    Creates an instance of the Polynomial class representing\n",
    "\n",
    "        p(x) = a_0 x^0 + ... + a_N x^N,\n",
    "\n",
    "    where a_i = coefficients[i].\n",
    "    \"\"\"\n",
    "    \n",
    "    def __init__(self,coefs):\n",
    "        self.coefs = coefs\n",
    "        \n",
    "    def __call__(self,x):\n",
    "        \"Evaluate the polynomial at x.\"\n",
    "        s = 0\n",
    "        for i, coef in enumerate(self.coefs):\n",
    "            s += coef*x**i\n",
    "        return s\n",
    "\n",
    "    def differentiate(self):\n",
    "        \"Reset self.coefficients to those of p' instead of p.\"\n",
    "        for i, coef in enumerate(self.coefs):\n",
    "            self.coefs[i] = coef*i\n",
    "        self.coefs.pop(0)"
   ]
  },
  {
   "cell_type": "code",
   "execution_count": 4,
   "metadata": {
    "ExecuteTime": {
     "end_time": "2019-11-14T03:35:51.340159Z",
     "start_time": "2019-11-14T03:35:51.330185Z"
    }
   },
   "outputs": [
    {
     "name": "stdout",
     "output_type": "stream",
     "text": [
      "547\n",
      "668\n"
     ]
    }
   ],
   "source": [
    "# teste\n",
    "\n",
    "p = polynomial([1,2,3,4,5])\n",
    "print(p(3))\n",
    "\n",
    "p.differentiate()\n",
    "print(p(3))"
   ]
  }
 ],
 "metadata": {
  "kernelspec": {
   "display_name": "Python 3",
   "language": "python",
   "name": "python3"
  },
  "language_info": {
   "codemirror_mode": {
    "name": "ipython",
    "version": 3
   },
   "file_extension": ".py",
   "mimetype": "text/x-python",
   "name": "python",
   "nbconvert_exporter": "python",
   "pygments_lexer": "ipython3",
   "version": "3.7.3"
  },
  "toc": {
   "base_numbering": 1,
   "nav_menu": {},
   "number_sections": true,
   "sideBar": true,
   "skip_h1_title": true,
   "title_cell": "Table of Contents",
   "title_sidebar": "Contents",
   "toc_cell": false,
   "toc_position": {},
   "toc_section_display": true,
   "toc_window_display": true
  },
  "varInspector": {
   "cols": {
    "lenName": 16,
    "lenType": 16,
    "lenVar": 40
   },
   "kernels_config": {
    "python": {
     "delete_cmd_postfix": "",
     "delete_cmd_prefix": "del ",
     "library": "var_list.py",
     "varRefreshCmd": "print(var_dic_list())"
    },
    "r": {
     "delete_cmd_postfix": ") ",
     "delete_cmd_prefix": "rm(",
     "library": "var_list.r",
     "varRefreshCmd": "cat(var_dic_list()) "
    }
   },
   "types_to_exclude": [
    "module",
    "function",
    "builtin_function_or_method",
    "instance",
    "_Feature"
   ],
   "window_display": true
  }
 },
 "nbformat": 4,
 "nbformat_minor": 2
}
