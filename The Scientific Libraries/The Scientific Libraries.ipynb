{
 "cells": [
  {
   "cell_type": "markdown",
   "metadata": {},
   "source": [
    "# Numpy"
   ]
  },
  {
   "cell_type": "code",
   "execution_count": 1,
   "metadata": {
    "ExecuteTime": {
     "end_time": "2019-11-05T19:16:49.066676Z",
     "start_time": "2019-11-05T19:16:48.479154Z"
    }
   },
   "outputs": [],
   "source": [
    "import numpy as np\n",
    "from numpy.random import uniform\n",
    "import matplotlib.pyplot as plt"
   ]
  },
  {
   "cell_type": "markdown",
   "metadata": {},
   "source": [
    "**Exercise 1**"
   ]
  },
  {
   "cell_type": "code",
   "execution_count": 2,
   "metadata": {
    "ExecuteTime": {
     "end_time": "2019-11-05T19:16:49.079023Z",
     "start_time": "2019-11-05T19:16:49.071122Z"
    }
   },
   "outputs": [],
   "source": [
    "def p(x,coef):\n",
    "    '''calculates the sum of a polinomial given a value for x and a list of coefficients'''\n",
    "    X = np.ones_like(coef)  # np.ones_like takes the list directlly, instead of a scalar, result equals np.ones(len(coef))\n",
    "    X[1:] = x\n",
    "    y = np.cumprod(X)\n",
    "    return coef @ y"
   ]
  },
  {
   "cell_type": "code",
   "execution_count": 3,
   "metadata": {
    "ExecuteTime": {
     "end_time": "2019-11-05T19:16:49.094683Z",
     "start_time": "2019-11-05T19:16:49.082135Z"
    }
   },
   "outputs": [
    {
     "name": "stdout",
     "output_type": "stream",
     "text": [
      "24\n",
      "24\n"
     ]
    }
   ],
   "source": [
    "# test\n",
    "\n",
    "coef = [2,3,4]\n",
    "x = 2\n",
    "\n",
    "print(p(x,coef))\n",
    "\n",
    "q = np.poly1d(np.flip(coef))\n",
    "print(q(x))"
   ]
  },
  {
   "cell_type": "markdown",
   "metadata": {},
   "source": [
    "**Exercise 2**"
   ]
  },
  {
   "cell_type": "code",
   "execution_count": 4,
   "metadata": {
    "ExecuteTime": {
     "end_time": "2019-11-05T19:16:49.107251Z",
     "start_time": "2019-11-05T19:16:49.096958Z"
    }
   },
   "outputs": [],
   "source": [
    "class discreteRV:\n",
    "    \"\"\" Generates an array of draws from a discrete random variable with vector of\n",
    "    probabilities given by q. \"\"\"\n",
    "    \n",
    "    def __init__(self,q):\n",
    "        \"\"\" The argument q is a nonnegative NumPy array, or array like, that sums to 1 \"\"\"\n",
    "        \n",
    "        self.q = q\n",
    "        self.Q = np.cumsum(self.q)\n",
    "\n",
    "    def draw(self,k = 1):\n",
    "        \"\"\" Returns k draws from q. For each such draw, the value i is returned\n",
    "        with probability q[i].\"\"\"\n",
    "        \n",
    "        U = uniform(0, 1, size = k)\n",
    "        return self.Q.searchsorted(U)"
   ]
  },
  {
   "cell_type": "code",
   "execution_count": 5,
   "metadata": {
    "ExecuteTime": {
     "end_time": "2019-11-05T19:16:49.123169Z",
     "start_time": "2019-11-05T19:16:49.110258Z"
    }
   },
   "outputs": [
    {
     "name": "stdout",
     "output_type": "stream",
     "text": [
      "[1]\n",
      "[2 1 1 2 0]\n",
      "--------------------\n",
      "[5]\n",
      "[6 1 6 6 3 7 5 7]\n"
     ]
    }
   ],
   "source": [
    "# teste\n",
    "\n",
    "pascal = discreteRV([0.25,0.5,0.25])\n",
    "uni = discreteRV([1/10 for n in range(10)])\n",
    "\n",
    "print(pascal.draw())\n",
    "print(pascal.draw(5))\n",
    "\n",
    "print(20*'-')\n",
    "\n",
    "print(uni.draw())\n",
    "print(uni.draw(8))"
   ]
  },
  {
   "cell_type": "markdown",
   "metadata": {},
   "source": [
    "**Exercise 3**"
   ]
  },
  {
   "cell_type": "code",
   "execution_count": 6,
   "metadata": {
    "ExecuteTime": {
     "end_time": "2019-11-05T19:16:49.136873Z",
     "start_time": "2019-11-05T19:16:49.127180Z"
    }
   },
   "outputs": [],
   "source": [
    "class ECDF:\n",
    "    \n",
    "    def __init__(self,samples):\n",
    "        self.samples = np.asarray(samples)\n",
    "        \n",
    "    def __call__(self,x):\n",
    "        return np.mean(self.samples <= x) # mean of boleans\n",
    "    \n",
    "    def plot(self,a=None,b=None):\n",
    "        if a is None:\n",
    "            a = self.samples.min()\n",
    "        if b is None:\n",
    "            b = self.samples.max()\n",
    "        \n",
    "        x_vals = np.linspace(a,b,100)\n",
    "        f = np.vectorize(self.__call__)\n",
    "        plt.plot(x_vals,f(x_vals))\n",
    "        plt.show()"
   ]
  },
  {
   "cell_type": "code",
   "execution_count": 7,
   "metadata": {
    "ExecuteTime": {
     "end_time": "2019-11-05T19:16:49.432461Z",
     "start_time": "2019-11-05T19:16:49.139880Z"
    }
   },
   "outputs": [
    {
     "name": "stdout",
     "output_type": "stream",
     "text": [
      "0.473\n"
     ]
    },
    {
     "data": {
      "image/png": "[encoded data removed]",
      "text/plain": [
       "<Figure size 432x288 with 1 Axes>"
      ]
     },
     "metadata": {
      "needs_background": "light"
     },
     "output_type": "display_data"
    }
   ],
   "source": [
    "X = [uniform(0, 1) for i in range(1000)]\n",
    "F = ECDF(X)\n",
    "\n",
    "print(F(0.5))\n",
    "F.plot(-.5,1.5)"
   ]
  },
  {
   "cell_type": "code",
   "execution_count": 8,
   "metadata": {
    "ExecuteTime": {
     "end_time": "2019-11-05T19:16:49.713136Z",
     "start_time": "2019-11-05T19:16:49.433862Z"
    }
   },
   "outputs": [
    {
     "name": "stdout",
     "output_type": "stream",
     "text": [
      "0.681\n"
     ]
    },
    {
     "data": {
      "image/png": "[encoded data removed]",
      "text/plain": [
       "<Figure size 432x288 with 1 Axes>"
      ]
     },
     "metadata": {
      "needs_background": "light"
     },
     "output_type": "display_data"
    }
   ],
   "source": [
    "X = np.random.randn(1000)\n",
    "F = ECDF(X)\n",
    "\n",
    "print(F(0.5))\n",
    "F.plot()"
   ]
  },
  {
   "cell_type": "markdown",
   "metadata": {},
   "source": [
    "# Matplotlib"
   ]
  },
  {
   "cell_type": "markdown",
   "metadata": {},
   "source": [
    "**Exercise 1**"
   ]
  },
  {
   "cell_type": "code",
   "execution_count": 9,
   "metadata": {
    "ExecuteTime": {
     "end_time": "2019-11-05T19:16:49.988346Z",
     "start_time": "2019-11-05T19:16:49.716214Z"
    }
   },
   "outputs": [
    {
     "data": {
      "image/png": "[encoded data removed]",
      "text/plain": [
       "<Figure size 432x288 with 1 Axes>"
      ]
     },
     "metadata": {
      "needs_background": "light"
     },
     "output_type": "display_data"
    }
   ],
   "source": [
    "import matplotlib.pyplot as plt\n",
    "import numpy as np\n",
    "\n",
    "def f(θ, x):\n",
    "    return np.cos(np.pi*θ*x) * np.exp(-x)\n",
    "\n",
    "θs = np.linspace(0, 2, 10)\n",
    "x = np.linspace(0,5,100)\n",
    "fig,ax = plt.subplots()\n",
    "\n",
    "for θ in θs:\n",
    "    ax.plot(x,f(θ,x))\n",
    "\n",
    "plt.show()"
   ]
  },
  {
   "cell_type": "markdown",
   "metadata": {},
   "source": [
    "# SciPy"
   ]
  },
  {
   "cell_type": "markdown",
   "metadata": {},
   "source": [
    "**Exercise 1**"
   ]
  },
  {
   "cell_type": "code",
   "execution_count": 10,
   "metadata": {
    "ExecuteTime": {
     "end_time": "2019-11-05T19:16:50.000089Z",
     "start_time": "2019-11-05T19:16:49.990340Z"
    }
   },
   "outputs": [],
   "source": [
    "def bisect_recursive(f, a, b, tol=10e-5):\n",
    "    \"\"\"\n",
    "    Implements the bisection root finding algorithm, assuming that f is a\n",
    "    real-valued function on [a, b] satisfying f(a) < 0 < f(b).\n",
    "    \"\"\"\n",
    "    middle = 0.5 * (a + b)\n",
    "    if b - a < tol:    \n",
    "        return middle\n",
    "    else:\n",
    "        # === if root is between lower and middle === #\n",
    "        if f(middle) > 0:\n",
    "            return bisect_recursive(f,a,middle,tol)\n",
    "        # === if root is between middle and upper  === #\n",
    "        else:              \n",
    "            return bisect_recursive(f,middle,b,tol)"
   ]
  },
  {
   "cell_type": "code",
   "execution_count": 11,
   "metadata": {
    "ExecuteTime": {
     "end_time": "2019-11-05T19:16:50.287705Z",
     "start_time": "2019-11-05T19:16:50.003572Z"
    }
   },
   "outputs": [
    {
     "name": "stdout",
     "output_type": "stream",
     "text": [
      "0.408294677734375\n",
      "0.4082935042806639\n"
     ]
    }
   ],
   "source": [
    "from scipy import optimize\n",
    "\n",
    "f = lambda x: np.sin(4 * (x - 0.25)) + x + x**20 - 1\n",
    "\n",
    "print(bisect_recursive(f,0,1))\n",
    "print(optimize.bisect(f,0,1))"
   ]
  },
  {
   "cell_type": "code",
   "execution_count": 12,
   "metadata": {
    "ExecuteTime": {
     "end_time": "2019-11-05T19:16:54.571089Z",
     "start_time": "2019-11-05T19:16:50.290376Z"
    }
   },
   "outputs": [
    {
     "name": "stdout",
     "output_type": "stream",
     "text": [
      "52.5 µs ± 1.78 µs per loop (mean ± std. dev. of 7 runs, 10000 loops each)\n"
     ]
    }
   ],
   "source": [
    "%timeit bisect_recursive(f,0,1)"
   ]
  },
  {
   "cell_type": "code",
   "execution_count": 13,
   "metadata": {
    "ExecuteTime": {
     "end_time": "2019-11-05T19:17:05.121911Z",
     "start_time": "2019-11-05T19:16:54.574248Z"
    }
   },
   "outputs": [
    {
     "name": "stdout",
     "output_type": "stream",
     "text": [
      "131 µs ± 2.08 µs per loop (mean ± std. dev. of 7 runs, 10000 loops each)\n"
     ]
    }
   ],
   "source": [
    "%timeit optimize.bisect(f,0,1)"
   ]
  },
  {
   "cell_type": "markdown",
   "metadata": {},
   "source": [
    "# Other Scientific Libraries"
   ]
  },
  {
   "cell_type": "markdown",
   "metadata": {},
   "source": [
    "**Exercise 1**"
   ]
  },
  {
   "cell_type": "code",
   "execution_count": 14,
   "metadata": {
    "ExecuteTime": {
     "end_time": "2019-11-05T19:17:05.131575Z",
     "start_time": "2019-11-05T19:17:05.125088Z"
    }
   },
   "outputs": [],
   "source": [
    "# Pure Python:\n",
    "\n",
    "from random import uniform\n",
    "\n",
    "def MC_python(state,p_hh,p_ll,n):\n",
    "    seq = [state]\n",
    "    for i in range(n):\n",
    "        U = uniform(0,1)\n",
    "        if state == 1:    # high state == 1\n",
    "            if U > p_hh:\n",
    "                state = 0\n",
    "        else:\n",
    "            if U > p_ll:\n",
    "                state = 1\n",
    "        seq.append(state)\n",
    "    return seq"
   ]
  },
  {
   "cell_type": "code",
   "execution_count": 15,
   "metadata": {
    "ExecuteTime": {
     "end_time": "2019-11-05T19:17:05.211913Z",
     "start_time": "2019-11-05T19:17:05.134178Z"
    }
   },
   "outputs": [
    {
     "name": "stdout",
     "output_type": "stream",
     "text": [
      "0.6672533274667254\n"
     ]
    }
   ],
   "source": [
    "n = 100_000\n",
    "x = MC_python(1,0.8,0.9,n)\n",
    "print(1-sum(x)/len(x))  # Fraction of time x is in state 0 (low)"
   ]
  },
  {
   "cell_type": "code",
   "execution_count": 16,
   "metadata": {
    "ExecuteTime": {
     "end_time": "2019-11-05T19:17:05.228051Z",
     "start_time": "2019-11-05T19:17:05.216740Z"
    }
   },
   "outputs": [],
   "source": [
    "# Using numpy:\n",
    "\n",
    "import numpy as np\n",
    "\n",
    "def MC_numpy(state,p_hh,p_ll,n):  \n",
    "    U = np.random.uniform(0,1,n)\n",
    "    seq = np.empty(n)\n",
    "    seq[0] = state\n",
    "    for i in range(1,n):\n",
    "        if seq[i-1] == 1: \n",
    "            seq[i] = U[i-1] < p_hh    # high state == 1\n",
    "        else:\n",
    "            seq[i] = U[i-1] > p_ll\n",
    "    return seq"
   ]
  },
  {
   "cell_type": "code",
   "execution_count": 17,
   "metadata": {
    "ExecuteTime": {
     "end_time": "2019-11-05T19:17:05.407184Z",
     "start_time": "2019-11-05T19:17:05.232844Z"
    }
   },
   "outputs": [
    {
     "name": "stdout",
     "output_type": "stream",
     "text": [
      "0.66878\n"
     ]
    }
   ],
   "source": [
    "n = 100_000\n",
    "x = MC_numpy(1,0.8,0.9,n)\n",
    "print(np.mean(x == 0))  # Fraction of time x is in state 0"
   ]
  },
  {
   "cell_type": "code",
   "execution_count": 18,
   "metadata": {
    "ExecuteTime": {
     "end_time": "2019-11-05T19:17:06.588958Z",
     "start_time": "2019-11-05T19:17:05.413950Z"
    }
   },
   "outputs": [],
   "source": [
    "# numba version:\n",
    "\n",
    "from numba import jit\n",
    "\n",
    "MC_numba = jit(MC_numpy)"
   ]
  },
  {
   "cell_type": "code",
   "execution_count": 19,
   "metadata": {
    "ExecuteTime": {
     "end_time": "2019-11-05T19:17:06.968381Z",
     "start_time": "2019-11-05T19:17:06.594143Z"
    }
   },
   "outputs": [
    {
     "name": "stdout",
     "output_type": "stream",
     "text": [
      "0.66605\n"
     ]
    }
   ],
   "source": [
    "n = 100_000\n",
    "x = MC_numba(1,0.8,0.9,n)\n",
    "print(np.mean(x == 0))  # Fraction of time x is in state 0"
   ]
  },
  {
   "cell_type": "code",
   "execution_count": 20,
   "metadata": {
    "ExecuteTime": {
     "end_time": "2019-11-05T19:17:07.355463Z",
     "start_time": "2019-11-05T19:17:06.970371Z"
    },
    "code_folding": []
   },
   "outputs": [
    {
     "name": "stdout",
     "output_type": "stream",
     "text": [
      "TOC: Elapsed: 0:00:0.06\n",
      "TOC: Elapsed: 0:00:0.12\n",
      "TOC: Elapsed: 0:00:0.00\n",
      "--------------------------------------------------\n",
      "numpy 203.8884 % of pure python\n",
      "numba 3.2262 % of pure python\n"
     ]
    }
   ],
   "source": [
    "# comparando os resultados:\n",
    "\n",
    "import quantecon as qe\n",
    "\n",
    "p_hh = 0.8\n",
    "p_ll = 0.9\n",
    "state = 1\n",
    "n = 100_000\n",
    "\n",
    "# pure python\n",
    "\n",
    "qe.util.tic()\n",
    "MC_python(state,p_hh,p_ll,n)\n",
    "t_py = qe.util.toc()\n",
    "\n",
    "#  w/ numpy\n",
    "\n",
    "qe.util.tic()\n",
    "MC_numpy(state,p_hh,p_ll,n)\n",
    "t_np = qe.util.toc()\n",
    "\n",
    "# numba\n",
    "\n",
    "qe.util.tic()\n",
    "MC_numba(state,p_hh,p_ll,n)\n",
    "t_nu = qe.util.toc()\n",
    "\n",
    "print(50*'-')\n",
    "print('numpy' + ' ' + f'{round(100*t_np/t_py,4)} % of pure python')\n",
    "print('numba' + ' ' + f'{round(100*t_nu/t_py,4)} % of pure python')\n",
    "\n",
    "# se rodarmos esse código diversas vezes veremos que os percentuais variam bastante"
   ]
  },
  {
   "cell_type": "code",
   "execution_count": 21,
   "metadata": {
    "ExecuteTime": {
     "end_time": "2019-11-05T19:17:07.606927Z",
     "start_time": "2019-11-05T19:17:07.357473Z"
    }
   },
   "outputs": [
    {
     "data": {
      "image/png": "[encoded data removed]",
      "text/plain": [
       "<Figure size 432x288 with 1 Axes>"
      ]
     },
     "metadata": {
      "needs_background": "light"
     },
     "output_type": "display_data"
    }
   ],
   "source": [
    "# adding a visualization of the Markov chain \n",
    "\n",
    "import matplotlib.pyplot as plt\n",
    "\n",
    "n = 80\n",
    "x = MC_numba(1,0.8,0.9,n)\n",
    "fig,ax = plt.subplots()\n",
    "ax.plot(range(n),x)\n",
    "plt.show()"
   ]
  }
 ],
 "metadata": {
  "kernelspec": {
   "display_name": "Python 3",
   "language": "python",
   "name": "python3"
  },
  "language_info": {
   "codemirror_mode": {
    "name": "ipython",
    "version": 3
   },
   "file_extension": ".py",
   "mimetype": "text/x-python",
   "name": "python",
   "nbconvert_exporter": "python",
   "pygments_lexer": "ipython3",
   "version": "3.7.3"
  },
  "toc": {
   "base_numbering": 1,
   "nav_menu": {},
   "number_sections": true,
   "sideBar": true,
   "skip_h1_title": true,
   "title_cell": "Table of Contents",
   "title_sidebar": "Contents",
   "toc_cell": false,
   "toc_position": {},
   "toc_section_display": true,
   "toc_window_display": false
  },
  "varInspector": {
   "cols": {
    "lenName": 16,
    "lenType": 16,
    "lenVar": 40
   },
   "kernels_config": {
    "python": {
     "delete_cmd_postfix": "",
     "delete_cmd_prefix": "del ",
     "library": "var_list.py",
     "varRefreshCmd": "print(var_dic_list())"
    },
    "r": {
     "delete_cmd_postfix": ") ",
     "delete_cmd_prefix": "rm(",
     "library": "var_list.r",
     "varRefreshCmd": "cat(var_dic_list()) "
    }
   },
   "types_to_exclude": [
    "module",
    "function",
    "builtin_function_or_method",
    "instance",
    "_Feature"
   ],
   "window_display": true
  }
 },
 "nbformat": 4,
 "nbformat_minor": 2
}
