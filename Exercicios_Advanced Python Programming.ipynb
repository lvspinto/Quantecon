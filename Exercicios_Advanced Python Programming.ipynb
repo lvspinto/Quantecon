{
 "cells": [
  {
   "cell_type": "markdown",
   "metadata": {},
   "source": [
    "# Advanced Python Programming"
   ]
  },
  {
   "cell_type": "markdown",
   "metadata": {},
   "source": [
    "## OOP II: Building Classes"
   ]
  },
  {
   "cell_type": "markdown",
   "metadata": {
    "ExecuteTime": {
     "end_time": "2019-04-18T12:38:43.763150Z",
     "start_time": "2019-04-18T12:38:43.759106Z"
    }
   },
   "source": [
    "### Exercise 1"
   ]
  },
  {
   "cell_type": "code",
   "execution_count": 7,
   "metadata": {
    "ExecuteTime": {
     "end_time": "2019-04-18T14:17:43.061700Z",
     "start_time": "2019-04-18T14:17:43.055753Z"
    }
   },
   "outputs": [],
   "source": [
    "class ECDF:\n",
    "    \n",
    "    def __init__(self,observations):\n",
    "        self.observations = observations\n",
    "        \n",
    "    def __call__(self,x):\n",
    "        count = 0\n",
    "        for obs in self.observations:\n",
    "            if obs <= x:\n",
    "                count += 1\n",
    "        return count/len(self.observations)"
   ]
  },
  {
   "cell_type": "code",
   "execution_count": 25,
   "metadata": {
    "ExecuteTime": {
     "end_time": "2019-04-18T14:20:49.818914Z",
     "start_time": "2019-04-18T14:20:49.809905Z"
    }
   },
   "outputs": [
    {
     "name": "stdout",
     "output_type": "stream",
     "text": [
      "0.3\n",
      "0.513\n"
     ]
    }
   ],
   "source": [
    "# == test == #\n",
    "\n",
    "from random import uniform\n",
    "\n",
    "samples = [uniform(0, 1) for i in range(10)]\n",
    "F = ECDF(samples)\n",
    "print(F(0.5))  # Evaluate ecdf at x = 0.5\n",
    "\n",
    "F.observations = [uniform(0, 1) for i in range(1000)]\n",
    "print(F(0.5))"
   ]
  },
  {
   "cell_type": "markdown",
   "metadata": {
    "ExecuteTime": {
     "end_time": "2019-04-18T12:38:43.763150Z",
     "start_time": "2019-04-18T12:38:43.759106Z"
    }
   },
   "source": [
    "### Exercise 2"
   ]
  },
  {
   "cell_type": "code",
   "execution_count": 55,
   "metadata": {
    "ExecuteTime": {
     "end_time": "2019-04-18T15:07:47.692684Z",
     "start_time": "2019-04-18T15:07:47.683708Z"
    }
   },
   "outputs": [],
   "source": [
    "class polynomial:\n",
    "    \n",
    "    def __init__(self,coefs):\n",
    "        \"\"\"\n",
    "        Creates an instance of the Polynomial class representing\n",
    "\n",
    "            p(x) = a_0 x^0 + ... + a_N x^N,\n",
    "\n",
    "        where a_i = coefficients[i].\n",
    "        \"\"\"\n",
    "        self.coefs = coefs\n",
    "        \n",
    "    def __call__(self,x):\n",
    "        \"Evaluate the polynomial at x.\"\n",
    "        s = 0\n",
    "        for i, coef in enumerate(self.coefs):\n",
    "            s += coef*x**i\n",
    "        return s\n",
    "\n",
    "    def differentiate(self):\n",
    "        \"Reset self.coefficients to those of p' instead of p.\"\n",
    "        for i, coef in enumerate(self.coefs):\n",
    "            self.coefs[i] = coef*i\n",
    "        self.coefs.pop(0)"
   ]
  },
  {
   "cell_type": "code",
   "execution_count": 57,
   "metadata": {
    "ExecuteTime": {
     "end_time": "2019-04-18T15:08:13.895508Z",
     "start_time": "2019-04-18T15:08:13.889556Z"
    }
   },
   "outputs": [
    {
     "name": "stdout",
     "output_type": "stream",
     "text": [
      "547\n",
      "668\n"
     ]
    }
   ],
   "source": [
    "# == test == #\n",
    "\n",
    "p = polynomial([1,2,3,4,5])\n",
    "print(p(3))\n",
    "\n",
    "p.differentiate()\n",
    "print(p(3))"
   ]
  },
  {
   "cell_type": "markdown",
   "metadata": {},
   "source": [
    "## More Language Features"
   ]
  },
  {
   "cell_type": "markdown",
   "metadata": {
    "ExecuteTime": {
     "end_time": "2019-04-18T12:38:43.763150Z",
     "start_time": "2019-04-18T12:38:43.759106Z"
    }
   },
   "source": [
    "### Exercise 1"
   ]
  },
  {
   "cell_type": "code",
   "execution_count": 1,
   "metadata": {
    "ExecuteTime": {
     "end_time": "2019-04-24T16:40:29.796674Z",
     "start_time": "2019-04-24T16:40:29.790928Z"
    }
   },
   "outputs": [],
   "source": [
    "def fibonacci(t):\n",
    "    if t == 1:\n",
    "        return 0\n",
    "    elif t == 2:\n",
    "        return 1\n",
    "    else:\n",
    "        return fibonacci(t-1) + fibonacci(t-2)"
   ]
  },
  {
   "cell_type": "code",
   "execution_count": 5,
   "metadata": {
    "ExecuteTime": {
     "end_time": "2019-04-24T16:40:51.749049Z",
     "start_time": "2019-04-24T16:40:51.740746Z"
    }
   },
   "outputs": [
    {
     "data": {
      "text/plain": [
       "89"
      ]
     },
     "execution_count": 5,
     "metadata": {},
     "output_type": "execute_result"
    }
   ],
   "source": [
    "fibonacci(12)"
   ]
  },
  {
   "cell_type": "markdown",
   "metadata": {
    "ExecuteTime": {
     "end_time": "2019-04-18T12:38:43.763150Z",
     "start_time": "2019-04-18T12:38:43.759106Z"
    }
   },
   "source": [
    "### Exercise 2"
   ]
  },
  {
   "cell_type": "code",
   "execution_count": 6,
   "metadata": {
    "ExecuteTime": {
     "end_time": "2019-04-24T20:29:44.293577Z",
     "start_time": "2019-04-24T20:29:44.277456Z"
    }
   },
   "outputs": [
    {
     "name": "stdout",
     "output_type": "stream",
     "text": [
      "Date\n",
      "2009-05-21\n",
      "2009-05-20\n",
      "2009-05-19\n",
      "2009-05-18\n",
      "2009-05-15\n",
      "2009-05-14\n",
      "2009-05-13\n",
      "2009-05-12\n",
      "2009-05-11\n"
     ]
    }
   ],
   "source": [
    "def column_iterator(target_file, column_number):\n",
    "    \"\"\"A generator function for CSV files.\n",
    "    When called with a file name target_file (string) and column number\n",
    "    column_number (integer), the generator function returns a generator\n",
    "    that steps through the elements of column column_number in file\n",
    "    target_file.\n",
    "    \"\"\"\n",
    "    with open(target_file,'r') as f:\n",
    "        for line in f:\n",
    "            yield line.split(',')[column_number - 1]    \n",
    "\n",
    "dates = column_iterator('test_table.csv', 1)\n",
    "\n",
    "i = 1\n",
    "for date in dates:\n",
    "    print(date)\n",
    "    if i == 10:\n",
    "        break\n",
    "    i += 1"
   ]
  },
  {
   "cell_type": "markdown",
   "metadata": {
    "ExecuteTime": {
     "end_time": "2019-04-18T12:38:43.763150Z",
     "start_time": "2019-04-18T12:38:43.759106Z"
    }
   },
   "source": [
    "### Exercise 3"
   ]
  },
  {
   "cell_type": "code",
   "execution_count": 17,
   "metadata": {
    "ExecuteTime": {
     "end_time": "2019-04-24T20:38:37.470113Z",
     "start_time": "2019-04-24T20:38:37.458163Z"
    }
   },
   "outputs": [
    {
     "name": "stdout",
     "output_type": "stream",
     "text": [
      "Writing test.txt\n"
     ]
    }
   ],
   "source": [
    "# first we create the file:\n",
    "\n",
    "%%file test.txt\n",
    "prices\n",
    "3\n",
    "8\n",
    "\n",
    "7\n",
    "21"
   ]
  },
  {
   "cell_type": "code",
   "execution_count": 26,
   "metadata": {
    "ExecuteTime": {
     "end_time": "2019-04-24T20:51:28.356441Z",
     "start_time": "2019-04-24T20:51:28.343794Z"
    }
   },
   "outputs": [
    {
     "name": "stdout",
     "output_type": "stream",
     "text": [
      "39.0\n"
     ]
    }
   ],
   "source": [
    "with open('test.txt','r') as f:\n",
    "    total = 0.0\n",
    "    for line in f:\n",
    "        try:\n",
    "            total += float(line)\n",
    "        except ValueError:\n",
    "            pass\n",
    "\n",
    "print(total)        "
   ]
  }
 ],
 "metadata": {
  "kernelspec": {
   "display_name": "Python 3",
   "language": "python",
   "name": "python3"
  },
  "language_info": {
   "codemirror_mode": {
    "name": "ipython",
    "version": 3
   },
   "file_extension": ".py",
   "mimetype": "text/x-python",
   "name": "python",
   "nbconvert_exporter": "python",
   "pygments_lexer": "ipython3",
   "version": "3.7.3"
  },
  "toc": {
   "base_numbering": 1,
   "nav_menu": {},
   "number_sections": true,
   "sideBar": true,
   "skip_h1_title": true,
   "title_cell": "Table of Contents",
   "title_sidebar": "Contents",
   "toc_cell": false,
   "toc_position": {},
   "toc_section_display": true,
   "toc_window_display": false
  },
  "varInspector": {
   "cols": {
    "lenName": 16,
    "lenType": 16,
    "lenVar": 40
   },
   "kernels_config": {
    "python": {
     "delete_cmd_postfix": "",
     "delete_cmd_prefix": "del ",
     "library": "var_list.py",
     "varRefreshCmd": "print(var_dic_list())"
    },
    "r": {
     "delete_cmd_postfix": ") ",
     "delete_cmd_prefix": "rm(",
     "library": "var_list.r",
     "varRefreshCmd": "cat(var_dic_list()) "
    }
   },
   "types_to_exclude": [
    "module",
    "function",
    "builtin_function_or_method",
    "instance",
    "_Feature"
   ],
   "window_display": true
  }
 },
 "nbformat": 4,
 "nbformat_minor": 2
}
