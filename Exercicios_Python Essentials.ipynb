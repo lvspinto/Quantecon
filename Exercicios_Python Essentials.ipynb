{
 "cells": [
  {
   "cell_type": "markdown",
   "metadata": {},
   "source": [
    "# Exercise 1\n",
    "Part 1: Given two numeric lists or tuples x_vals and y_vals of equal length, compute their inner product using zip()  \n",
    "  \n",
    "Part 2: In one line, count the number of even numbers in 0,…,99  \n",
    "  \n",
    "-  Hint: x % 2 returns 0 if x is even, 1 otherwise  \n",
    "  \n",
    "Part 3: Given pairs = ((2, 5), (4, 2), (9, 8), (12, 10)), count the number of pairs (a, b) such that both a and b are even"
   ]
  },
  {
   "cell_type": "code",
   "execution_count": 51,
   "metadata": {
    "ExecuteTime": {
     "end_time": "2019-04-10T17:44:28.817660Z",
     "start_time": "2019-04-10T17:44:28.805589Z"
    }
   },
   "outputs": [
    {
     "data": {
      "text/plain": [
       "130"
      ]
     },
     "execution_count": 51,
     "metadata": {},
     "output_type": "execute_result"
    }
   ],
   "source": [
    "# Part 1:\n",
    "\n",
    "x_vals = [1,2,3,4,5]\n",
    "y_vals = [6,7,8,9,10]\n",
    "sum([x*y for x,y in zip(x_vals,y_vals)])"
   ]
  },
  {
   "cell_type": "code",
   "execution_count": 52,
   "metadata": {
    "ExecuteTime": {
     "end_time": "2019-04-10T17:47:10.032241Z",
     "start_time": "2019-04-10T17:47:10.023812Z"
    }
   },
   "outputs": [
    {
     "data": {
      "text/plain": [
       "50"
      ]
     },
     "execution_count": 52,
     "metadata": {},
     "output_type": "execute_result"
    }
   ],
   "source": [
    "# Part 2:\n",
    "\n",
    "sum(x % 2 == 0 for x in range(100))"
   ]
  },
  {
   "cell_type": "code",
   "execution_count": 53,
   "metadata": {
    "ExecuteTime": {
     "end_time": "2019-04-10T17:48:47.225940Z",
     "start_time": "2019-04-10T17:48:47.213818Z"
    }
   },
   "outputs": [
    {
     "data": {
      "text/plain": [
       "2"
      ]
     },
     "execution_count": 53,
     "metadata": {},
     "output_type": "execute_result"
    }
   ],
   "source": [
    "# Part 3\n",
    "\n",
    "pairs = ((2, 5), (4, 2), (9, 8), (12, 10))\n",
    "\n",
    "sum(x % 2 == 0 and y % 2 == 0 for x,y in pairs)"
   ]
  },
  {
   "cell_type": "markdown",
   "metadata": {},
   "source": [
    "# Exercise 2  \n",
    "  \n",
    "Consider the polynomial (1)\n",
    "\n",
    "$$ p(x) = a_0 + a_1x + a_2x^2 + ⋯ a_nx^n = \\sum_{i=0}^{n}a_ix^i $$\n",
    "\n",
    "Write a function p such that p(x, coeff) that computes the value in (1) given a point x and a list of coefficients coeff  \n",
    "  \n",
    "Try to use enumerate() in your loop"
   ]
  },
  {
   "cell_type": "code",
   "execution_count": 73,
   "metadata": {
    "ExecuteTime": {
     "end_time": "2019-04-10T18:20:07.370144Z",
     "start_time": "2019-04-10T18:20:07.363176Z"
    }
   },
   "outputs": [],
   "source": [
    "def p(x,coeff):\n",
    "    return sum([a * x**num for num, a in enumerate(coeff)])"
   ]
  },
  {
   "cell_type": "code",
   "execution_count": 74,
   "metadata": {
    "ExecuteTime": {
     "end_time": "2019-04-10T18:20:08.069724Z",
     "start_time": "2019-04-10T18:20:08.061686Z"
    }
   },
   "outputs": [
    {
     "data": {
      "text/plain": [
       "17"
      ]
     },
     "execution_count": 74,
     "metadata": {},
     "output_type": "execute_result"
    }
   ],
   "source": [
    "p(2,[1,2,3])"
   ]
  },
  {
   "cell_type": "markdown",
   "metadata": {},
   "source": [
    "# Exercise 3  \n",
    "  \n",
    "Write a function that takes a string as an argument and returns the number of capital letters in the string  \n",
    "  \n",
    "Hint: 'foo'.upper() returns 'FOO'"
   ]
  },
  {
   "cell_type": "code",
   "execution_count": 81,
   "metadata": {
    "ExecuteTime": {
     "end_time": "2019-04-10T18:26:20.587660Z",
     "start_time": "2019-04-10T18:26:20.578984Z"
    }
   },
   "outputs": [
    {
     "data": {
      "text/plain": [
       "3"
      ]
     },
     "execution_count": 81,
     "metadata": {},
     "output_type": "execute_result"
    }
   ],
   "source": [
    "def n_caps(string):\n",
    "    return sum(s == s.upper() for s in string if s.isalpha())\n",
    "\n",
    "n_caps('Lucas PintO')"
   ]
  },
  {
   "cell_type": "markdown",
   "metadata": {},
   "source": [
    "# Exercise 4  \n",
    "  \n",
    "Write a function that takes two sequences seq_a and seq_b as arguments and returns True if every element in seq_a is also an element of seq_b, else False  \n",
    "\n",
    "-  By “sequence” we mean a list, a tuple or a string\n",
    "-  Do the exercise without using sets and set methods"
   ]
  },
  {
   "cell_type": "code",
   "execution_count": 88,
   "metadata": {
    "ExecuteTime": {
     "end_time": "2019-04-10T18:38:45.297884Z",
     "start_time": "2019-04-10T18:38:45.289529Z"
    }
   },
   "outputs": [],
   "source": [
    "def a_in_b(seq_a,seq_b):\n",
    "    for a in seq_a:\n",
    "        if a not in seq_b:\n",
    "            return False\n",
    "    return True"
   ]
  },
  {
   "cell_type": "code",
   "execution_count": 92,
   "metadata": {
    "ExecuteTime": {
     "end_time": "2019-04-10T18:40:05.310034Z",
     "start_time": "2019-04-10T18:40:05.301367Z"
    }
   },
   "outputs": [
    {
     "name": "stdout",
     "output_type": "stream",
     "text": [
      "False True True\n"
     ]
    }
   ],
   "source": [
    "print(\n",
    "    a_in_b([1,4,7,2],(1,4,77,32)),\n",
    "    a_in_b([1,4,7,2],(1,4,77,32,7,2)),\n",
    "    a_in_b('banana','banananana'))"
   ]
  },
  {
   "cell_type": "markdown",
   "metadata": {},
   "source": [
    "# Exercise 5  \n",
    "  \n",
    "When we cover the numerical libraries, we will see they include many alternatives for interpolation and function approximation  \n",
    "  \n",
    "Nevertheless, let’s write our own function approximation routine as an exercise  \n",
    "  \n",
    "In particular, without using any imports, write a function linapprox that takes as arguments  \n",
    "  \n",
    "-  A function f mapping some interval [a,b] into R\n",
    "-  two scalars a and b providing the limits of this interval\n",
    "-  An integer n determining the number of grid points\n",
    "-  A number x satisfying a <= x <= b\n",
    "  \n",
    "and returns the piecewise linear interpolation of f at x, based on n evenly spaced grid points a = point[0] < point[1] < ... < point[n-1] = b  \n",
    "  \n",
    "Aim for clarity, not efficiency"
   ]
  },
  {
   "cell_type": "code",
   "execution_count": 133,
   "metadata": {
    "ExecuteTime": {
     "end_time": "2019-04-10T19:41:50.101275Z",
     "start_time": "2019-04-10T19:41:50.090060Z"
    }
   },
   "outputs": [],
   "source": [
    "def linapprox(f,a,b,n,x):\n",
    "    if not a <= x <= b:\n",
    "        return \"x deve pertencer ao intervalo [a,b] \"\n",
    "    \n",
    "    intervalo = (b - a)/n    \n",
    "    for i in range(n):\n",
    "        if (a + intervalo*i) <= x <= (a + intervalo*(i+1)):\n",
    "            y = i     \n",
    "    u = a + intervalo*y\n",
    "    v = a + intervalo*(y+1)\n",
    "    return f(u) + (x - u) * (f(v) - f(u)) / (v - u)"
   ]
  },
  {
   "cell_type": "code",
   "execution_count": 134,
   "metadata": {
    "ExecuteTime": {
     "end_time": "2019-04-10T19:41:50.741552Z",
     "start_time": "2019-04-10T19:41:50.728747Z"
    }
   },
   "outputs": [
    {
     "name": "stdout",
     "output_type": "stream",
     "text": [
      "8.777777777777779 8.755102040816327 8.75 8.75\n"
     ]
    }
   ],
   "source": [
    "f = lambda x: x**2 +3*x + 2\n",
    "\n",
    "print(linapprox(f,1,2,3,1.5),\n",
    "     linapprox(f,1,2,7,1.5),\n",
    "     linapprox(f,1,2,10,1.5),\n",
    "     f(1.5))"
   ]
  }
 ],
 "metadata": {
  "kernelspec": {
   "display_name": "Python 3",
   "language": "python",
   "name": "python3"
  },
  "language_info": {
   "codemirror_mode": {
    "name": "ipython",
    "version": 3
   },
   "file_extension": ".py",
   "mimetype": "text/x-python",
   "name": "python",
   "nbconvert_exporter": "python",
   "pygments_lexer": "ipython3",
   "version": "3.7.3"
  },
  "toc": {
   "base_numbering": 1,
   "nav_menu": {},
   "number_sections": true,
   "sideBar": true,
   "skip_h1_title": true,
   "title_cell": "Table of Contents",
   "title_sidebar": "Contents",
   "toc_cell": false,
   "toc_position": {},
   "toc_section_display": true,
   "toc_window_display": false
  },
  "varInspector": {
   "cols": {
    "lenName": 16,
    "lenType": 16,
    "lenVar": 40
   },
   "kernels_config": {
    "python": {
     "delete_cmd_postfix": "",
     "delete_cmd_prefix": "del ",
     "library": "var_list.py",
     "varRefreshCmd": "print(var_dic_list())"
    },
    "r": {
     "delete_cmd_postfix": ") ",
     "delete_cmd_prefix": "rm(",
     "library": "var_list.r",
     "varRefreshCmd": "cat(var_dic_list()) "
    }
   },
   "types_to_exclude": [
    "module",
    "function",
    "builtin_function_or_method",
    "instance",
    "_Feature"
   ],
   "window_display": false
  }
 },
 "nbformat": 4,
 "nbformat_minor": 2
}
